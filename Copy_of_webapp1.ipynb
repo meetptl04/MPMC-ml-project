{
  "nbformat": 4,
  "nbformat_minor": 0,
  "metadata": {
    "colab": {
      "provenance": [],
      "authorship_tag": "ABX9TyPHQopILAkcbEDJ68C7iUdm",
      "include_colab_link": true
    },
    "kernelspec": {
      "name": "python3",
      "display_name": "Python 3"
    },
    "language_info": {
      "name": "python"
    }
  },
  "cells": [
    {
      "cell_type": "markdown",
      "metadata": {
        "id": "view-in-github",
        "colab_type": "text"
      },
      "source": [
        "<a href=\"https://colab.research.google.com/github/meetptl04/MPMC-ml-project/blob/main/Copy_of_webapp1.ipynb\" target=\"_parent\"><img src=\"https://colab.research.google.com/assets/colab-badge.svg\" alt=\"Open In Colab\"/></a>"
      ]
    },
    {
      "cell_type": "code",
      "execution_count": null,
      "metadata": {
        "id": "34lpEeVa7EB2"
      },
      "outputs": [],
      "source": [
        "! pip install gradio"
      ]
    },
    {
      "cell_type": "code",
      "source": [
        "import gradio as gr"
      ],
      "metadata": {
        "id": "I0dME7iK75bt"
      },
      "execution_count": null,
      "outputs": []
    },
    {
      "cell_type": "code",
      "source": [
        "def hello_world(name):\n",
        "  return \"Hello...\" + name + \"!!!!\""
      ],
      "metadata": {
        "id": "IWtflqEx8J2N"
      },
      "execution_count": null,
      "outputs": []
    },
    {
      "cell_type": "code",
      "source": [
        "hello_world(\"meet\")"
      ],
      "metadata": {
        "id": "U91WI61e8dNr"
      },
      "execution_count": null,
      "outputs": []
    },
    {
      "cell_type": "code",
      "source": [
        "interface = gr.Interface(fn = hello_world, inputs = 'text', outputs = \"text\")"
      ],
      "metadata": {
        "id": "tZnCKWzv8dJK"
      },
      "execution_count": null,
      "outputs": []
    },
    {
      "cell_type": "code",
      "source": [
        "interface.launch()"
      ],
      "metadata": {
        "id": "qijTyCBW9TdX"
      },
      "execution_count": null,
      "outputs": []
    },
    {
      "cell_type": "code",
      "source": [
        "interface = gr.Interface(fn = hello_world,\n",
        "                         inputs = gr.components.Textbox(lines = 5 , placeholder=\"ENter you text here...!!!\"),\n",
        "                         outputs = \"text\")"
      ],
      "metadata": {
        "id": "7WboJt86-brm"
      },
      "execution_count": null,
      "outputs": []
    },
    {
      "cell_type": "code",
      "source": [
        "interface.launch()"
      ],
      "metadata": {
        "id": "6dRCz7i__ZtZ"
      },
      "execution_count": null,
      "outputs": []
    },
    {
      "cell_type": "code",
      "source": [
        "import gradio as gr"
      ],
      "metadata": {
        "id": "78jQLHWCD5sv"
      },
      "execution_count": null,
      "outputs": []
    },
    {
      "cell_type": "code",
      "source": [
        "def bmi(name,height,weight):\n",
        "  bmi_val = weight / ((height/100) **2)\n",
        "  result_emoticon = \"😁\" if bmi_val < 30 else \"😥\"\n",
        "  output_str = \"Hello \" + name + \"...\\n Your BMI is ....\" + str(bmi_val)\n",
        "  return(output_str , result_emoticon)"
      ],
      "metadata": {
        "id": "XXqFkUtgEKnS"
      },
      "execution_count": null,
      "outputs": []
    },
    {
      "cell_type": "code",
      "source": [
        "bmi(\"Meet\",120,50)"
      ],
      "metadata": {
        "colab": {
          "base_uri": "https://localhost:8080/"
        },
        "id": "BskXOX_rE2oF",
        "outputId": "2c095933-62ba-4ad6-ad9f-37e980e8924a"
      },
      "execution_count": null,
      "outputs": [
        {
          "output_type": "execute_result",
          "data": {
            "text/plain": [
              "('Hello Meet...\\n Your BMI is ....34.72222222222222', '😥')"
            ]
          },
          "metadata": {},
          "execution_count": 38
        }
      ]
    },
    {
      "cell_type": "code",
      "source": [
        "interface=gr.Interface(\n",
        "    fn = bmi,\n",
        "    inputs = [\"text\", gr.Slider(0,200,label = \"Height in CM\"), gr.Slider(0,100,label = \"Weight in Kg \")],\n",
        "    outputs = ['text','text'],\n",
        "    #theme = 'darkhuggingface'\n",
        "    css = '''\n",
        "    body {background-color : grey}\n",
        "    '''\n",
        ")"
      ],
      "metadata": {
        "id": "0FfV0SSkFJec"
      },
      "execution_count": null,
      "outputs": []
    },
    {
      "cell_type": "code",
      "source": [
        "interface.launch()"
      ],
      "metadata": {
        "colab": {
          "base_uri": "https://localhost:8080/",
          "height": 625
        },
        "id": "f6NPWf7PJo-c",
        "outputId": "f5af9c2c-bf55-4af0-eaf7-8b9e33e56ca9"
      },
      "execution_count": null,
      "outputs": [
        {
          "output_type": "stream",
          "name": "stdout",
          "text": [
            "Setting queue=True in a Colab notebook requires sharing enabled. Setting `share=True` (you can turn this off by setting `share=False` in `launch()` explicitly).\n",
            "\n",
            "Colab notebook detected. To show errors in colab notebook, set debug=True in launch()\n",
            "Running on public URL: https://9eb7e5feacee8678e3.gradio.live\n",
            "\n",
            "This share link expires in 72 hours. For free permanent hosting and GPU upgrades, run `gradio deploy` from Terminal to deploy to Spaces (https://huggingface.co/spaces)\n"
          ]
        },
        {
          "output_type": "display_data",
          "data": {
            "text/plain": [
              "<IPython.core.display.HTML object>"
            ],
            "text/html": [
              "<div><iframe src=\"https://9eb7e5feacee8678e3.gradio.live\" width=\"100%\" height=\"500\" allow=\"autoplay; camera; microphone; clipboard-read; clipboard-write;\" frameborder=\"0\" allowfullscreen></iframe></div>"
            ]
          },
          "metadata": {}
        },
        {
          "output_type": "execute_result",
          "data": {
            "text/plain": []
          },
          "metadata": {},
          "execution_count": 71
        }
      ]
    },
    {
      "cell_type": "code",
      "source": [
        "#import pandas as pd"
      ],
      "metadata": {
        "id": "6Q7D8KNYKdya"
      },
      "execution_count": null,
      "outputs": []
    },
    {
      "cell_type": "code",
      "source": [],
      "metadata": {
        "id": "gsmlaU0KQkV3"
      },
      "execution_count": null,
      "outputs": []
    }
  ]
}