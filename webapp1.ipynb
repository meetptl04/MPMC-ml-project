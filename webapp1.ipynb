{
  "nbformat": 4,
  "nbformat_minor": 0,
  "metadata": {
    "colab": {
      "provenance": [],
      "authorship_tag": "ABX9TyNGNQbpuatQPrToEdii5t9e",
      "include_colab_link": true
    },
    "kernelspec": {
      "name": "python3",
      "display_name": "Python 3"
    },
    "language_info": {
      "name": "python"
    }
  },
  "cells": [
    {
      "cell_type": "markdown",
      "metadata": {
        "id": "view-in-github",
        "colab_type": "text"
      },
      "source": [
        "<a href=\"https://colab.research.google.com/github/meetptl04/MPMC-ml-project/blob/main/webapp1.ipynb\" target=\"_parent\"><img src=\"https://colab.research.google.com/assets/colab-badge.svg\" alt=\"Open In Colab\"/></a>"
      ]
    },
    {
      "cell_type": "code",
      "execution_count": null,
      "metadata": {
        "id": "34lpEeVa7EB2"
      },
      "outputs": [],
      "source": [
        "! pip install gradio"
      ]
    },
    {
      "cell_type": "code",
      "source": [
        "import gradio as gr"
      ],
      "metadata": {
        "id": "I0dME7iK75bt"
      },
      "execution_count": 3,
      "outputs": []
    },
    {
      "cell_type": "code",
      "source": [
        "def userinput(pos,flw,flg,bl,pic,lin,cl,cz,ni,erl,erc,It,hc,pr,fo,cs,pi):\n",
        "  #insert trained modelhere\n",
        "\n",
        "  output_str = \"Hello\"\n",
        "  return(output_str)"
      ],
      "metadata": {
        "id": "fCgBw8lczhaT"
      },
      "execution_count": 9,
      "outputs": []
    },
    {
      "cell_type": "code",
      "source": [
        "interface=gr.Interface(\n",
        "    fn = userinput,\n",
        "    title = \"Fake Profile Detection using Neural Netwroks\",\n",
        "    inputs = [\n",
        "              gr.Number(label=\"No. of posts : \"),\n",
        "              gr.Number(label=\"Followers : \"),\n",
        "              gr.Number(label=\"Following : \"),\n",
        "              gr.Number(label=\"Bio length : \"),\n",
        "              #gr.inputs.Checkbox(label=\"Pic\"),\n",
        "              gr.CheckboxGroup([\"PIC\"], label=\"Profile Pic is avainlabel or not?\"),\n",
        "              #gr.inputs.Checkbox(label=\"Link\"),\n",
        "              gr.CheckboxGroup([\"Link\"], label=\"Any external link is available or not?\"),\n",
        "              gr.Number(label=\"Caption Length : \"),\n",
        "              #gr.Number(label=\"Caption zero : \"),\n",
        "              gr.Slider(0,1,float,label=\"Caption zero : \"),\n",
        "              #gr.Number(label=\"Non image percentage : \"),\n",
        "              gr.Slider(0,1,float,label=\"Non image percentage : \"),\n",
        "              gr.Number(label=\"Engagement rate (Like) : \"),\n",
        "              gr.Number(label=\"Engagement rate (Comm.) : \"),\n",
        "              #gr.Number(label=\"Location Tag % : \"),\n",
        "              gr.Slider(0,1,float,label=\"Location Tag % : \"),\n",
        "              gr.Number(label=\"Average Hashtag Count : \"),\n",
        "              #gr.Number(label=\"Promotional Keyword : \"),\n",
        "              gr.Slider(0,1,float,label=\"Promotional Keyword : \"),\n",
        "              gr.Number(label=\"Followers Keyword : \"),\n",
        "              #gr.Number(label=\"Cosine Similarity : \"),\n",
        "              gr.Slider(0,1,float,label=\"Cosine Similarity : \"),\n",
        "              gr.Number(label=\"Post Interval : \"),\n",
        "              ],\n",
        "    outputs = ['text'],\n",
        "    theme=gr.themes.Soft()\n",
        ")"
      ],
      "metadata": {
        "id": "_F8Ts4Aj193R"
      },
      "execution_count": 61,
      "outputs": []
    },
    {
      "cell_type": "code",
      "source": [
        "interface.launch()"
      ],
      "metadata": {
        "colab": {
          "base_uri": "https://localhost:8080/",
          "height": 625
        },
        "id": "mWXFGJN6DSVf",
        "outputId": "39178359-77d5-480c-f667-f19d5e1cf182"
      },
      "execution_count": 62,
      "outputs": [
        {
          "output_type": "stream",
          "name": "stdout",
          "text": [
            "Setting queue=True in a Colab notebook requires sharing enabled. Setting `share=True` (you can turn this off by setting `share=False` in `launch()` explicitly).\n",
            "\n",
            "Colab notebook detected. To show errors in colab notebook, set debug=True in launch()\n",
            "Running on public URL: https://3f88513dad594ea871.gradio.live\n",
            "\n",
            "This share link expires in 72 hours. For free permanent hosting and GPU upgrades, run `gradio deploy` from Terminal to deploy to Spaces (https://huggingface.co/spaces)\n"
          ]
        },
        {
          "output_type": "display_data",
          "data": {
            "text/plain": [
              "<IPython.core.display.HTML object>"
            ],
            "text/html": [
              "<div><iframe src=\"https://3f88513dad594ea871.gradio.live\" width=\"100%\" height=\"500\" allow=\"autoplay; camera; microphone; clipboard-read; clipboard-write;\" frameborder=\"0\" allowfullscreen></iframe></div>"
            ]
          },
          "metadata": {}
        },
        {
          "output_type": "execute_result",
          "data": {
            "text/plain": []
          },
          "metadata": {},
          "execution_count": 62
        }
      ]
    },
    {
      "cell_type": "code",
      "source": [
        "def hello_world(name):\n",
        "  return \"Hello...\" + name + \"!!!!\""
      ],
      "metadata": {
        "id": "IWtflqEx8J2N"
      },
      "execution_count": null,
      "outputs": []
    },
    {
      "cell_type": "code",
      "source": [
        "hello_world(\"meet\")"
      ],
      "metadata": {
        "id": "U91WI61e8dNr"
      },
      "execution_count": null,
      "outputs": []
    },
    {
      "cell_type": "code",
      "source": [
        "interface = gr.Interface(fn = hello_world, inputs = 'text', outputs = \"text\")"
      ],
      "metadata": {
        "id": "tZnCKWzv8dJK"
      },
      "execution_count": null,
      "outputs": []
    },
    {
      "cell_type": "code",
      "source": [
        "interface.launch()"
      ],
      "metadata": {
        "id": "qijTyCBW9TdX"
      },
      "execution_count": null,
      "outputs": []
    },
    {
      "cell_type": "code",
      "source": [
        "interface = gr.Interface(fn = hello_world,\n",
        "                         inputs = gr.components.Textbox(lines = 5 , placeholder=\"ENter you text here...!!!\"),\n",
        "                         outputs = \"text\")"
      ],
      "metadata": {
        "id": "7WboJt86-brm"
      },
      "execution_count": null,
      "outputs": []
    },
    {
      "cell_type": "code",
      "source": [
        "interface.launch()"
      ],
      "metadata": {
        "id": "6dRCz7i__ZtZ"
      },
      "execution_count": null,
      "outputs": []
    },
    {
      "cell_type": "code",
      "source": [
        "import gradio as gr"
      ],
      "metadata": {
        "id": "78jQLHWCD5sv"
      },
      "execution_count": null,
      "outputs": []
    },
    {
      "cell_type": "code",
      "source": [
        "def bmi(name,height,weight):\n",
        "  bmi_val = weight / ((height/100) **2)\n",
        "  result_emoticon = \"😁\" if bmi_val < 30 else \"😥\"\n",
        "  output_str = \"Hello \" + name + \"...\\n Your BMI is ....\" + str(bmi_val)\n",
        "  return(output_str , result_emoticon)"
      ],
      "metadata": {
        "id": "XXqFkUtgEKnS"
      },
      "execution_count": 28,
      "outputs": []
    },
    {
      "cell_type": "code",
      "source": [
        "bmi(\"Meet\",120,50)"
      ],
      "metadata": {
        "colab": {
          "base_uri": "https://localhost:8080/"
        },
        "id": "BskXOX_rE2oF",
        "outputId": "1119df27-1f25-4242-b6ca-8034485c586d"
      },
      "execution_count": 29,
      "outputs": [
        {
          "output_type": "execute_result",
          "data": {
            "text/plain": [
              "('Hello Meet...\\n Your BMI is ....34.72222222222222', '😥')"
            ]
          },
          "metadata": {},
          "execution_count": 29
        }
      ]
    },
    {
      "cell_type": "code",
      "source": [
        "interface=gr.Interface(\n",
        "    fn = bmi,\n",
        "    inputs = [\"text\", gr.Slider(0,200,label = \"Height in CM\"), gr.Slider(0,100,label = \"Weight in Kg \")],\n",
        "    outputs = ['text','text'],\n",
        "    #theme = 'darkhuggingface'\n",
        "    css = '''\n",
        "    body {background-color : grey}\n",
        "    '''\n",
        ")"
      ],
      "metadata": {
        "id": "0FfV0SSkFJec"
      },
      "execution_count": 30,
      "outputs": []
    },
    {
      "cell_type": "code",
      "source": [
        "interface.launch()"
      ],
      "metadata": {
        "colab": {
          "base_uri": "https://localhost:8080/",
          "height": 625
        },
        "id": "f6NPWf7PJo-c",
        "outputId": "a0e2f8eb-a717-41a7-8d0f-d9edc94d8823"
      },
      "execution_count": 31,
      "outputs": [
        {
          "output_type": "stream",
          "name": "stdout",
          "text": [
            "Setting queue=True in a Colab notebook requires sharing enabled. Setting `share=True` (you can turn this off by setting `share=False` in `launch()` explicitly).\n",
            "\n",
            "Colab notebook detected. To show errors in colab notebook, set debug=True in launch()\n",
            "Running on public URL: https://794135503b30697a12.gradio.live\n",
            "\n",
            "This share link expires in 72 hours. For free permanent hosting and GPU upgrades, run `gradio deploy` from Terminal to deploy to Spaces (https://huggingface.co/spaces)\n"
          ]
        },
        {
          "output_type": "display_data",
          "data": {
            "text/plain": [
              "<IPython.core.display.HTML object>"
            ],
            "text/html": [
              "<div><iframe src=\"https://794135503b30697a12.gradio.live\" width=\"100%\" height=\"500\" allow=\"autoplay; camera; microphone; clipboard-read; clipboard-write;\" frameborder=\"0\" allowfullscreen></iframe></div>"
            ]
          },
          "metadata": {}
        },
        {
          "output_type": "execute_result",
          "data": {
            "text/plain": []
          },
          "metadata": {},
          "execution_count": 31
        }
      ]
    },
    {
      "cell_type": "code",
      "source": [
        "#import pandas as pd"
      ],
      "metadata": {
        "id": "6Q7D8KNYKdya"
      },
      "execution_count": null,
      "outputs": []
    },
    {
      "cell_type": "code",
      "source": [],
      "metadata": {
        "id": "gsmlaU0KQkV3"
      },
      "execution_count": null,
      "outputs": []
    }
  ]
}